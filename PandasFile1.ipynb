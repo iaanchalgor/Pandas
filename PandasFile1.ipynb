{
  "nbformat": 4,
  "nbformat_minor": 0,
  "metadata": {
    "colab": {
      "provenance": []
    },
    "kernelspec": {
      "name": "python3",
      "display_name": "Python 3"
    },
    "language_info": {
      "name": "python"
    }
  },
  "cells": [
    {
      "cell_type": "code",
      "execution_count": 1,
      "metadata": {
        "colab": {
          "base_uri": "https://localhost:8080/"
        },
        "id": "xO5tsSindIHJ",
        "outputId": "2ab0c08c-f0a9-4a19-b426-7d2aa312a892"
      },
      "outputs": [
        {
          "output_type": "stream",
          "name": "stdout",
          "text": [
            "                                             Text\n",
            "0                                  Hello Students\n",
            "1                                   Hello Teacher\n",
            "2                            Start Day With Maths\n",
            "3  No Mam We are Not Inreseted To Do This Subject\n"
          ]
        }
      ],
      "source": [
        "#CREATE DATAFRAME\n",
        "\n",
        "import pandas as pd\n",
        "\n",
        "data = ['Hello Students','Hello Teacher','Start Day With Maths','No Mam We are Not Inreseted To Do This Subject']\n",
        "\n",
        "df = pd.DataFrame(data, columns = ['Text'])\n",
        "\n",
        "print(df)\n"
      ]
    },
    {
      "cell_type": "code",
      "source": [
        "#Create Table using dataframe\n",
        "\n",
        "import pandas as pd\n",
        "\n",
        "Students = {'Name':['Aanchal','Vivek','Dimple','Somesh','Sainu'],\n",
        "            'Age':[21,20,24,19,16],\n",
        "            'Percentage' :[90,97,89,94,98],\n",
        "            'Grade' : ['A','A+','A','A+','A+']}\n",
        "\n",
        "df = pd.DataFrame(Students)\n",
        "\n",
        "print(df)"
      ],
      "metadata": {
        "colab": {
          "base_uri": "https://localhost:8080/"
        },
        "id": "SEKTYEJPf1iU",
        "outputId": "fe6d9236-e448-4f8b-e683-479dcab3bd28"
      },
      "execution_count": 2,
      "outputs": [
        {
          "output_type": "stream",
          "name": "stdout",
          "text": [
            "      Name  Age  Percentage Grade\n",
            "0  Aanchal   21          90     A\n",
            "1    Vivek   20          97    A+\n",
            "2   Dimple   24          89     A\n",
            "3   Somesh   19          94    A+\n",
            "4    Sainu   16          98    A+\n"
          ]
        }
      ]
    },
    {
      "cell_type": "code",
      "source": [
        "#convert this dataframe into csv file\n",
        "\n",
        "import pandas as pd\n",
        "\n",
        "Students = {'Name':['Aanchal','Vivek','Dimple','Somesh','Sainu'],\n",
        "            'Age':[21,20,24,19,16],\n",
        "            'Percentage' :[90,97,89,94,98],\n",
        "            'Grade' : ['A','A+','A','A+','A+']}\n",
        "\n",
        "df = pd.DataFrame(Students)\n",
        "print(df)\n",
        "\n",
        "\n",
        "df.to_csv('StudentData.csv',index=False)\n",
        "\n",
        "print(\"SucessFully Converted Into CSV File\")"
      ],
      "metadata": {
        "colab": {
          "base_uri": "https://localhost:8080/"
        },
        "id": "6jNHnlZag9p2",
        "outputId": "026c415e-da07-414b-b1f6-b59304f91095"
      },
      "execution_count": 3,
      "outputs": [
        {
          "output_type": "stream",
          "name": "stdout",
          "text": [
            "      Name  Age  Percentage Grade\n",
            "0  Aanchal   21          90     A\n",
            "1    Vivek   20          97    A+\n",
            "2   Dimple   24          89     A\n",
            "3   Somesh   19          94    A+\n",
            "4    Sainu   16          98    A+\n",
            "SucessFully Converted Into CSV File\n"
          ]
        }
      ]
    },
    {
      "cell_type": "code",
      "source": [
        "import pandas as pd\n",
        "\n",
        "Students = {'Name':['Aanchal','Vivek','Dimple','Somesh','Sainu'],\n",
        "            'Age':[21,20,24,19,16],\n",
        "            'Percentage' :[90,97,89,94,98],\n",
        "            'Grade' : ['A','A+','A','A+','A+']}\n",
        "\n",
        "df = pd.DataFrame(Students)\n",
        "\n",
        "#Caught Only A+ Stdents DATA\n",
        "a_plushStudent = df[df['Grade'] == 'A+']\n",
        "print(a_plushStudent)\n",
        "\n",
        "#Caught Only Students NAME\n",
        "students_Nm = df[df['Name'] == 'Somesh']\n",
        "print(students_Nm)\n",
        "\n",
        "\n",
        "#Caught Only less than 98percentage Data\n",
        "\n",
        "students_below_98 = df[df['Percentage'] <98]\n",
        "print(students_below_98)\n"
      ],
      "metadata": {
        "colab": {
          "base_uri": "https://localhost:8080/"
        },
        "id": "Ed6KqAeUoFZY",
        "outputId": "5e84cbef-f055-45e1-cf7e-f741e428980b"
      },
      "execution_count": 10,
      "outputs": [
        {
          "output_type": "stream",
          "name": "stdout",
          "text": [
            "     Name  Age  Percentage Grade\n",
            "1   Vivek   20          97    A+\n",
            "3  Somesh   19          94    A+\n",
            "4   Sainu   16          98    A+\n",
            "     Name  Age  Percentage Grade\n",
            "3  Somesh   19          94    A+\n",
            "      Name  Age  Percentage Grade\n",
            "0  Aanchal   21          90     A\n",
            "1    Vivek   20          97    A+\n",
            "2   Dimple   24          89     A\n",
            "3   Somesh   19          94    A+\n"
          ]
        }
      ]
    },
    {
      "cell_type": "code",
      "source": [],
      "metadata": {
        "id": "f4MUNAWCo2_7"
      },
      "execution_count": null,
      "outputs": []
    }
  ]
}